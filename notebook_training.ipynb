{
 "cells": [
  {
   "cell_type": "code",
   "execution_count": 1,
   "metadata": {},
   "outputs": [],
   "source": [
    "import numpy as np\n",
    "import pandas as pd\n",
    "import datetime\n",
    "from sklearn.model_selection import train_test_split\n",
    "from sklearn.preprocessing import MinMaxScaler, LabelEncoder\n",
    "from sklearn.neural_network import MLPClassifier\n",
    "from sklearn.metrics import accuracy_score"
   ]
  },
  {
   "cell_type": "code",
   "execution_count": 2,
   "metadata": {},
   "outputs": [],
   "source": [
    "df_train = pd.read_csv('train.csv')\n",
    "df_test = pd.read_csv('test.csv')"
   ]
  },
  {
   "cell_type": "code",
   "execution_count": 3,
   "metadata": {},
   "outputs": [],
   "source": [
    "y_train = pd.DataFrame(df_train['No-show'])\n",
    "y_test = pd.DataFrame(df_test['No-show'])"
   ]
  },
  {
   "cell_type": "code",
   "execution_count": 4,
   "metadata": {},
   "outputs": [],
   "source": [
    "label_encoder = LabelEncoder()\n",
    "c_features = ['No-show', 'Gender']"
   ]
  },
  {
   "cell_type": "code",
   "execution_count": 5,
   "metadata": {},
   "outputs": [],
   "source": [
    "for feature in c_features:\n",
    "    df_train[feature] = label_encoder.fit_transform(df_train[feature])\n",
    "for feature in c_features:\n",
    "    df_test[feature] = label_encoder.fit_transform(df_test[feature])"
   ]
  },
  {
   "cell_type": "code",
   "execution_count": 6,
   "metadata": {},
   "outputs": [],
   "source": [
    "#Elimino il target e le feature non necessarie\n",
    "columns_to_be_deleted = ['No-show', 'PatientId', 'AppointmentID', 'Neighbourhood']\n",
    "\n",
    "df_train.drop(columns_to_be_deleted, axis=1, inplace=True)\n",
    "df_test.drop(columns_to_be_deleted, axis=1, inplace=True)"
   ]
  },
  {
   "cell_type": "code",
   "execution_count": 7,
   "metadata": {},
   "outputs": [],
   "source": [
    "#Converto in datatime le features ScheduledDay e AppointmentDay\n",
    "df_train['ScheduledDay'] = pd.to_datetime(df_train['ScheduledDay'], errors='coerce')\n",
    "df_train['AppointmentDay'] = pd.to_datetime(df_train['AppointmentDay'], errors='coerce')\n",
    "\n",
    "df_test['ScheduledDay'] = pd.to_datetime(df_test['ScheduledDay'], errors='coerce')\n",
    "df_test['AppointmentDay'] = pd.to_datetime(df_test['AppointmentDay'], errors='coerce')"
   ]
  },
  {
   "cell_type": "code",
   "execution_count": 8,
   "metadata": {},
   "outputs": [],
   "source": [
    "#Estraggo dalla Feature AppointmentDay: Weekday, Month, Year\n",
    "df_train['Appointment_Weekday'] = df_train.AppointmentDay.dt.dayofweek\n",
    "df_train['Appointment_Day'] = df_train.AppointmentDay.dt.day\n",
    "df_train['Appointment_Month'] = df_train.AppointmentDay.dt.month\n",
    "df_train['Appointment_Year'] = df_train.AppointmentDay.dt.year\n",
    "\n",
    "df_test['Appointment_Weekday'] = df_test.AppointmentDay.dt.dayofweek\n",
    "df_test['Appointment_Day'] = df_test.AppointmentDay.dt.day\n",
    "df_test['Appointment_Month'] = df_test.AppointmentDay.dt.month\n",
    "df_test['Appointment_Year'] = df_test.AppointmentDay.dt.year"
   ]
  },
  {
   "cell_type": "code",
   "execution_count": 9,
   "metadata": {},
   "outputs": [],
   "source": [
    "#Calcolo una nuova feature Waiting_Period\n",
    "df_train['Waiting_Period'] = df_train.AppointmentDay.dt.date - df_train.ScheduledDay.dt.date\n",
    "df_test['Waiting_Period'] = df_test.AppointmentDay.dt.date - df_test.ScheduledDay.dt.date\n",
    "df_train['Waiting_Period'] = df_train.Waiting_Period.dt.days\n",
    "df_test['Waiting_Period'] = df_test.Waiting_Period.dt.days\n",
    "\n",
    "columns_to_be_deleted = ['ScheduledDay', 'AppointmentDay', ]\n",
    "df_train.drop(columns_to_be_deleted, axis=1, inplace=True)\n",
    "df_test.drop(columns_to_be_deleted, axis=1, inplace=True)"
   ]
  },
  {
   "cell_type": "code",
   "execution_count": 10,
   "metadata": {},
   "outputs": [],
   "source": [
    "#Applico lo scaling alla feature Age\n",
    "scaler = MinMaxScaler()\n",
    "df_train['Age'] = scaler.fit_transform(df_train)\n",
    "df_test['Age'] = scaler.fit_transform(df_test)"
   ]
  },
  {
   "cell_type": "code",
   "execution_count": 11,
   "metadata": {},
   "outputs": [],
   "source": [
    "model = MLPClassifier()"
   ]
  },
  {
   "cell_type": "code",
   "execution_count": 12,
   "metadata": {},
   "outputs": [
    {
     "data": {
      "text/plain": [
       "MLPClassifier(activation='relu', alpha=0.0001, batch_size='auto', beta_1=0.9,\n",
       "              beta_2=0.999, early_stopping=False, epsilon=1e-08,\n",
       "              hidden_layer_sizes=(100,), learning_rate='constant',\n",
       "              learning_rate_init=0.001, max_fun=15000, max_iter=200,\n",
       "              momentum=0.9, n_iter_no_change=10, nesterovs_momentum=True,\n",
       "              power_t=0.5, random_state=None, shuffle=True, solver='adam',\n",
       "              tol=0.0001, validation_fraction=0.1, verbose=False,\n",
       "              warm_start=False)"
      ]
     },
     "execution_count": 12,
     "metadata": {},
     "output_type": "execute_result"
    }
   ],
   "source": [
    "model.fit(df_train, y_train.values.ravel())"
   ]
  },
  {
   "cell_type": "code",
   "execution_count": 13,
   "metadata": {},
   "outputs": [],
   "source": [
    "p_train = model.predict(df_train)\n",
    "p_test = model.predict(df_test)"
   ]
  },
  {
   "cell_type": "code",
   "execution_count": 14,
   "metadata": {},
   "outputs": [
    {
     "name": "stdout",
     "output_type": "stream",
     "text": [
      "Train 0.7973309206061977, Test 0.7985162399348593\n"
     ]
    }
   ],
   "source": [
    "acc_train = accuracy_score(y_train, p_train)\n",
    "acc_test = accuracy_score(y_test, p_test)\n",
    "\n",
    "print(f'Train {acc_train}, Test {acc_test}')"
   ]
  },
  {
   "cell_type": "code",
   "execution_count": null,
   "metadata": {},
   "outputs": [],
   "source": []
  }
 ],
 "metadata": {
  "kernelspec": {
   "display_name": "Python 3",
   "language": "python",
   "name": "python3"
  },
  "language_info": {
   "codemirror_mode": {
    "name": "ipython",
    "version": 3
   },
   "file_extension": ".py",
   "mimetype": "text/x-python",
   "name": "python",
   "nbconvert_exporter": "python",
   "pygments_lexer": "ipython3",
   "version": "3.7.6"
  }
 },
 "nbformat": 4,
 "nbformat_minor": 4
}
